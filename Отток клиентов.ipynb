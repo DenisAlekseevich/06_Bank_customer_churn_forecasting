{
 "cells": [
  {
   "cell_type": "markdown",
   "metadata": {
    "toc": true
   },
   "source": [
    "<h1>Содержание<span class=\"tocSkip\"></span></h1>\n",
    "<div class=\"toc\"><ul class=\"toc-item\"><li><span><a href=\"#Подготовка-данных\" data-toc-modified-id=\"Подготовка-данных-1\"><span class=\"toc-item-num\">1&nbsp;&nbsp;</span>Подготовка данных</a></span></li><li><span><a href=\"#Исследование-задачи\" data-toc-modified-id=\"Исследование-задачи-2\"><span class=\"toc-item-num\">2&nbsp;&nbsp;</span>Исследование задачи</a></span><ul class=\"toc-item\"><li><span><a href=\"#Вывод:\" data-toc-modified-id=\"Вывод:-2.1\"><span class=\"toc-item-num\">2.1&nbsp;&nbsp;</span>Вывод:</a></span></li></ul></li><li><span><a href=\"#Борьба-с-дисбалансом\" data-toc-modified-id=\"Борьба-с-дисбалансом-3\"><span class=\"toc-item-num\">3&nbsp;&nbsp;</span>Борьба с дисбалансом</a></span><ul class=\"toc-item\"><li><span><a href=\"#Вывод\" data-toc-modified-id=\"Вывод-3.1\"><span class=\"toc-item-num\">3.1&nbsp;&nbsp;</span>Вывод</a></span></li></ul></li><li><span><a href=\"#Тестирование-модели\" data-toc-modified-id=\"Тестирование-модели-4\"><span class=\"toc-item-num\">4&nbsp;&nbsp;</span>Тестирование модели</a></span><ul class=\"toc-item\"><li><span><a href=\"#Вывод\" data-toc-modified-id=\"Вывод-4.1\"><span class=\"toc-item-num\">4.1&nbsp;&nbsp;</span>Вывод</a></span></li></ul></li><li><span><a href=\"#Чек-лист-готовности-проекта\" data-toc-modified-id=\"Чек-лист-готовности-проекта-5\"><span class=\"toc-item-num\">5&nbsp;&nbsp;</span>Чек-лист готовности проекта</a></span></li></ul></div>"
   ]
  },
  {
   "cell_type": "markdown",
   "metadata": {},
   "source": [
    "# Отток клиентов"
   ]
  },
  {
   "cell_type": "markdown",
   "metadata": {},
   "source": [
    "Из «Бета-Банка» стали уходить клиенты. Каждый месяц. Немного, но заметно. Банковские маркетологи посчитали: сохранять текущих клиентов дешевле, чем привлекать новых.\n",
    "\n",
    "Нужно спрогнозировать, уйдёт клиент из банка в ближайшее время или нет. Вам предоставлены исторические данные о поведении клиентов и расторжении договоров с банком. \n",
    "\n",
    "Нужно построить модель с предельно большим значением *F1*-меры и довести метрику до 0.59. И необходимо проверить *F1*-меру на тестовой выборке.\n",
    "\n",
    "Дополнительно измерим *AUC-ROC*, сравнивая её значение с *F1*-мерой.\n",
    "\n",
    "Источник данных: [https://www.kaggle.com/barelydedicated/bank-customer-churn-modeling](https://www.kaggle.com/barelydedicated/bank-customer-churn-modeling)"
   ]
  },
  {
   "cell_type": "markdown",
   "metadata": {},
   "source": [
    "## Подготовка данных"
   ]
  },
  {
   "cell_type": "code",
   "execution_count": 1,
   "metadata": {},
   "outputs": [],
   "source": [
    "import pandas as pd\n",
    "import numpy as np\n",
    "\n",
    "import matplotlib.pyplot as plt\n",
    "\n",
    "from sklearn.tree import DecisionTreeClassifier\n",
    "from sklearn.ensemble import RandomForestClassifier\n",
    "from sklearn.linear_model import LogisticRegression\n",
    "from sklearn.neighbors import KNeighborsClassifier\n",
    "\n",
    "\n",
    "from sklearn.model_selection import train_test_split\n",
    "from sklearn.metrics import f1_score\n",
    "from sklearn.metrics import roc_auc_score\n",
    "\n",
    "import warnings\n",
    "warnings.filterwarnings('ignore')"
   ]
  },
  {
   "cell_type": "code",
   "execution_count": 2,
   "metadata": {},
   "outputs": [
    {
     "name": "stdout",
     "output_type": "stream",
     "text": [
      "<class 'pandas.core.frame.DataFrame'>\n",
      "RangeIndex: 10000 entries, 0 to 9999\n",
      "Data columns (total 14 columns):\n",
      " #   Column           Non-Null Count  Dtype  \n",
      "---  ------           --------------  -----  \n",
      " 0   RowNumber        10000 non-null  int64  \n",
      " 1   CustomerId       10000 non-null  int64  \n",
      " 2   Surname          10000 non-null  object \n",
      " 3   CreditScore      10000 non-null  int64  \n",
      " 4   Geography        10000 non-null  object \n",
      " 5   Gender           10000 non-null  object \n",
      " 6   Age              10000 non-null  int64  \n",
      " 7   Tenure           9091 non-null   float64\n",
      " 8   Balance          10000 non-null  float64\n",
      " 9   NumOfProducts    10000 non-null  int64  \n",
      " 10  HasCrCard        10000 non-null  int64  \n",
      " 11  IsActiveMember   10000 non-null  int64  \n",
      " 12  EstimatedSalary  10000 non-null  float64\n",
      " 13  Exited           10000 non-null  int64  \n",
      "dtypes: float64(3), int64(8), object(3)\n",
      "memory usage: 1.1+ MB\n"
     ]
    },
    {
     "data": {
      "text/html": [
       "<div>\n",
       "<style scoped>\n",
       "    .dataframe tbody tr th:only-of-type {\n",
       "        vertical-align: middle;\n",
       "    }\n",
       "\n",
       "    .dataframe tbody tr th {\n",
       "        vertical-align: top;\n",
       "    }\n",
       "\n",
       "    .dataframe thead th {\n",
       "        text-align: right;\n",
       "    }\n",
       "</style>\n",
       "<table border=\"1\" class=\"dataframe\">\n",
       "  <thead>\n",
       "    <tr style=\"text-align: right;\">\n",
       "      <th></th>\n",
       "      <th>RowNumber</th>\n",
       "      <th>CustomerId</th>\n",
       "      <th>Surname</th>\n",
       "      <th>CreditScore</th>\n",
       "      <th>Geography</th>\n",
       "      <th>Gender</th>\n",
       "      <th>Age</th>\n",
       "      <th>Tenure</th>\n",
       "      <th>Balance</th>\n",
       "      <th>NumOfProducts</th>\n",
       "      <th>HasCrCard</th>\n",
       "      <th>IsActiveMember</th>\n",
       "      <th>EstimatedSalary</th>\n",
       "      <th>Exited</th>\n",
       "    </tr>\n",
       "  </thead>\n",
       "  <tbody>\n",
       "    <tr>\n",
       "      <th>0</th>\n",
       "      <td>1</td>\n",
       "      <td>15634602</td>\n",
       "      <td>Hargrave</td>\n",
       "      <td>619</td>\n",
       "      <td>France</td>\n",
       "      <td>Female</td>\n",
       "      <td>42</td>\n",
       "      <td>2.0</td>\n",
       "      <td>0.00</td>\n",
       "      <td>1</td>\n",
       "      <td>1</td>\n",
       "      <td>1</td>\n",
       "      <td>101348.88</td>\n",
       "      <td>1</td>\n",
       "    </tr>\n",
       "    <tr>\n",
       "      <th>1</th>\n",
       "      <td>2</td>\n",
       "      <td>15647311</td>\n",
       "      <td>Hill</td>\n",
       "      <td>608</td>\n",
       "      <td>Spain</td>\n",
       "      <td>Female</td>\n",
       "      <td>41</td>\n",
       "      <td>1.0</td>\n",
       "      <td>83807.86</td>\n",
       "      <td>1</td>\n",
       "      <td>0</td>\n",
       "      <td>1</td>\n",
       "      <td>112542.58</td>\n",
       "      <td>0</td>\n",
       "    </tr>\n",
       "    <tr>\n",
       "      <th>2</th>\n",
       "      <td>3</td>\n",
       "      <td>15619304</td>\n",
       "      <td>Onio</td>\n",
       "      <td>502</td>\n",
       "      <td>France</td>\n",
       "      <td>Female</td>\n",
       "      <td>42</td>\n",
       "      <td>8.0</td>\n",
       "      <td>159660.80</td>\n",
       "      <td>3</td>\n",
       "      <td>1</td>\n",
       "      <td>0</td>\n",
       "      <td>113931.57</td>\n",
       "      <td>1</td>\n",
       "    </tr>\n",
       "    <tr>\n",
       "      <th>3</th>\n",
       "      <td>4</td>\n",
       "      <td>15701354</td>\n",
       "      <td>Boni</td>\n",
       "      <td>699</td>\n",
       "      <td>France</td>\n",
       "      <td>Female</td>\n",
       "      <td>39</td>\n",
       "      <td>1.0</td>\n",
       "      <td>0.00</td>\n",
       "      <td>2</td>\n",
       "      <td>0</td>\n",
       "      <td>0</td>\n",
       "      <td>93826.63</td>\n",
       "      <td>0</td>\n",
       "    </tr>\n",
       "    <tr>\n",
       "      <th>4</th>\n",
       "      <td>5</td>\n",
       "      <td>15737888</td>\n",
       "      <td>Mitchell</td>\n",
       "      <td>850</td>\n",
       "      <td>Spain</td>\n",
       "      <td>Female</td>\n",
       "      <td>43</td>\n",
       "      <td>2.0</td>\n",
       "      <td>125510.82</td>\n",
       "      <td>1</td>\n",
       "      <td>1</td>\n",
       "      <td>1</td>\n",
       "      <td>79084.10</td>\n",
       "      <td>0</td>\n",
       "    </tr>\n",
       "  </tbody>\n",
       "</table>\n",
       "</div>"
      ],
      "text/plain": [
       "   RowNumber  CustomerId   Surname  CreditScore Geography  Gender  Age  \\\n",
       "0          1    15634602  Hargrave          619    France  Female   42   \n",
       "1          2    15647311      Hill          608     Spain  Female   41   \n",
       "2          3    15619304      Onio          502    France  Female   42   \n",
       "3          4    15701354      Boni          699    France  Female   39   \n",
       "4          5    15737888  Mitchell          850     Spain  Female   43   \n",
       "\n",
       "   Tenure    Balance  NumOfProducts  HasCrCard  IsActiveMember  \\\n",
       "0     2.0       0.00              1          1               1   \n",
       "1     1.0   83807.86              1          0               1   \n",
       "2     8.0  159660.80              3          1               0   \n",
       "3     1.0       0.00              2          0               0   \n",
       "4     2.0  125510.82              1          1               1   \n",
       "\n",
       "   EstimatedSalary  Exited  \n",
       "0        101348.88       1  \n",
       "1        112542.58       0  \n",
       "2        113931.57       1  \n",
       "3         93826.63       0  \n",
       "4         79084.10       0  "
      ]
     },
     "execution_count": 2,
     "metadata": {},
     "output_type": "execute_result"
    }
   ],
   "source": [
    "data = pd.read_csv('C:\\\\Users\\\\admin\\\\Desktop\\\\DS_yandex\\\\06_Отток клиентов\\\\Churn.csv')\n",
    "data.info()\n",
    "data.head()"
   ]
  },
  {
   "cell_type": "code",
   "execution_count": 3,
   "metadata": {},
   "outputs": [],
   "source": [
    "# Удалим столбец 'RowNumber', который не несет никакой информации и заменяется индексом\n",
    "data = data.drop('RowNumber', axis = 1)\n",
    "# Изменим названия столбцов, переведем все в нижний регистр\n",
    "data.set_axis([x.lower() for x in data.columns.to_list()], axis = 'columns', inplace = True)"
   ]
  },
  {
   "cell_type": "markdown",
   "metadata": {},
   "source": [
    "В столбце 'tenure' почти 10% данных отсутствуют. Рассмотрим корреляцию данных этого столбца с остальными для выбора стратегии заполнения пропусков. Так же расмотрим распределение значений."
   ]
  },
  {
   "cell_type": "code",
   "execution_count": 4,
   "metadata": {},
   "outputs": [
    {
     "data": {
      "text/html": [
       "<div>\n",
       "<style scoped>\n",
       "    .dataframe tbody tr th:only-of-type {\n",
       "        vertical-align: middle;\n",
       "    }\n",
       "\n",
       "    .dataframe tbody tr th {\n",
       "        vertical-align: top;\n",
       "    }\n",
       "\n",
       "    .dataframe thead th {\n",
       "        text-align: right;\n",
       "    }\n",
       "</style>\n",
       "<table border=\"1\" class=\"dataframe\">\n",
       "  <thead>\n",
       "    <tr style=\"text-align: right;\">\n",
       "      <th></th>\n",
       "      <th>creditscore</th>\n",
       "      <th>age</th>\n",
       "      <th>tenure</th>\n",
       "      <th>balance</th>\n",
       "      <th>numofproducts</th>\n",
       "      <th>hascrcard</th>\n",
       "      <th>isactivemember</th>\n",
       "      <th>estimatedsalary</th>\n",
       "    </tr>\n",
       "  </thead>\n",
       "  <tbody>\n",
       "    <tr>\n",
       "      <th>0</th>\n",
       "      <td>619</td>\n",
       "      <td>42</td>\n",
       "      <td>2.0</td>\n",
       "      <td>0.00</td>\n",
       "      <td>1</td>\n",
       "      <td>1</td>\n",
       "      <td>1</td>\n",
       "      <td>101348.88</td>\n",
       "    </tr>\n",
       "    <tr>\n",
       "      <th>1</th>\n",
       "      <td>608</td>\n",
       "      <td>41</td>\n",
       "      <td>1.0</td>\n",
       "      <td>83807.86</td>\n",
       "      <td>1</td>\n",
       "      <td>0</td>\n",
       "      <td>1</td>\n",
       "      <td>112542.58</td>\n",
       "    </tr>\n",
       "    <tr>\n",
       "      <th>2</th>\n",
       "      <td>502</td>\n",
       "      <td>42</td>\n",
       "      <td>8.0</td>\n",
       "      <td>159660.80</td>\n",
       "      <td>3</td>\n",
       "      <td>1</td>\n",
       "      <td>0</td>\n",
       "      <td>113931.57</td>\n",
       "    </tr>\n",
       "    <tr>\n",
       "      <th>3</th>\n",
       "      <td>699</td>\n",
       "      <td>39</td>\n",
       "      <td>1.0</td>\n",
       "      <td>0.00</td>\n",
       "      <td>2</td>\n",
       "      <td>0</td>\n",
       "      <td>0</td>\n",
       "      <td>93826.63</td>\n",
       "    </tr>\n",
       "    <tr>\n",
       "      <th>4</th>\n",
       "      <td>850</td>\n",
       "      <td>43</td>\n",
       "      <td>2.0</td>\n",
       "      <td>125510.82</td>\n",
       "      <td>1</td>\n",
       "      <td>1</td>\n",
       "      <td>1</td>\n",
       "      <td>79084.10</td>\n",
       "    </tr>\n",
       "    <tr>\n",
       "      <th>...</th>\n",
       "      <td>...</td>\n",
       "      <td>...</td>\n",
       "      <td>...</td>\n",
       "      <td>...</td>\n",
       "      <td>...</td>\n",
       "      <td>...</td>\n",
       "      <td>...</td>\n",
       "      <td>...</td>\n",
       "    </tr>\n",
       "    <tr>\n",
       "      <th>9995</th>\n",
       "      <td>771</td>\n",
       "      <td>39</td>\n",
       "      <td>5.0</td>\n",
       "      <td>0.00</td>\n",
       "      <td>2</td>\n",
       "      <td>1</td>\n",
       "      <td>0</td>\n",
       "      <td>96270.64</td>\n",
       "    </tr>\n",
       "    <tr>\n",
       "      <th>9996</th>\n",
       "      <td>516</td>\n",
       "      <td>35</td>\n",
       "      <td>10.0</td>\n",
       "      <td>57369.61</td>\n",
       "      <td>1</td>\n",
       "      <td>1</td>\n",
       "      <td>1</td>\n",
       "      <td>101699.77</td>\n",
       "    </tr>\n",
       "    <tr>\n",
       "      <th>9997</th>\n",
       "      <td>709</td>\n",
       "      <td>36</td>\n",
       "      <td>7.0</td>\n",
       "      <td>0.00</td>\n",
       "      <td>1</td>\n",
       "      <td>0</td>\n",
       "      <td>1</td>\n",
       "      <td>42085.58</td>\n",
       "    </tr>\n",
       "    <tr>\n",
       "      <th>9998</th>\n",
       "      <td>772</td>\n",
       "      <td>42</td>\n",
       "      <td>3.0</td>\n",
       "      <td>75075.31</td>\n",
       "      <td>2</td>\n",
       "      <td>1</td>\n",
       "      <td>0</td>\n",
       "      <td>92888.52</td>\n",
       "    </tr>\n",
       "    <tr>\n",
       "      <th>9999</th>\n",
       "      <td>792</td>\n",
       "      <td>28</td>\n",
       "      <td>NaN</td>\n",
       "      <td>130142.79</td>\n",
       "      <td>1</td>\n",
       "      <td>1</td>\n",
       "      <td>0</td>\n",
       "      <td>38190.78</td>\n",
       "    </tr>\n",
       "  </tbody>\n",
       "</table>\n",
       "<p>10000 rows × 8 columns</p>\n",
       "</div>"
      ],
      "text/plain": [
       "      creditscore  age  tenure    balance  numofproducts  hascrcard  \\\n",
       "0             619   42     2.0       0.00              1          1   \n",
       "1             608   41     1.0   83807.86              1          0   \n",
       "2             502   42     8.0  159660.80              3          1   \n",
       "3             699   39     1.0       0.00              2          0   \n",
       "4             850   43     2.0  125510.82              1          1   \n",
       "...           ...  ...     ...        ...            ...        ...   \n",
       "9995          771   39     5.0       0.00              2          1   \n",
       "9996          516   35    10.0   57369.61              1          1   \n",
       "9997          709   36     7.0       0.00              1          0   \n",
       "9998          772   42     3.0   75075.31              2          1   \n",
       "9999          792   28     NaN  130142.79              1          1   \n",
       "\n",
       "      isactivemember  estimatedsalary  \n",
       "0                  1        101348.88  \n",
       "1                  1        112542.58  \n",
       "2                  0        113931.57  \n",
       "3                  0         93826.63  \n",
       "4                  1         79084.10  \n",
       "...              ...              ...  \n",
       "9995               0         96270.64  \n",
       "9996               1        101699.77  \n",
       "9997               1         42085.58  \n",
       "9998               0         92888.52  \n",
       "9999               0         38190.78  \n",
       "\n",
       "[10000 rows x 8 columns]"
      ]
     },
     "execution_count": 4,
     "metadata": {},
     "output_type": "execute_result"
    }
   ],
   "source": [
    "data[['creditscore', 'age', 'tenure', 'balance', 'numofproducts', 'hascrcard', 'isactivemember', 'estimatedsalary']]"
   ]
  },
  {
   "cell_type": "code",
   "execution_count": 5,
   "metadata": {},
   "outputs": [
    {
     "data": {
      "text/html": [
       "<div>\n",
       "<style scoped>\n",
       "    .dataframe tbody tr th:only-of-type {\n",
       "        vertical-align: middle;\n",
       "    }\n",
       "\n",
       "    .dataframe tbody tr th {\n",
       "        vertical-align: top;\n",
       "    }\n",
       "\n",
       "    .dataframe thead th {\n",
       "        text-align: right;\n",
       "    }\n",
       "</style>\n",
       "<table border=\"1\" class=\"dataframe\">\n",
       "  <thead>\n",
       "    <tr style=\"text-align: right;\">\n",
       "      <th></th>\n",
       "      <th>creditscore</th>\n",
       "      <th>age</th>\n",
       "      <th>tenure</th>\n",
       "      <th>balance</th>\n",
       "      <th>numofproducts</th>\n",
       "      <th>estimatedsalary</th>\n",
       "    </tr>\n",
       "  </thead>\n",
       "  <tbody>\n",
       "    <tr>\n",
       "      <th>creditscore</th>\n",
       "      <td>1.000000</td>\n",
       "      <td>-0.003965</td>\n",
       "      <td>-0.000062</td>\n",
       "      <td>0.006268</td>\n",
       "      <td>0.012238</td>\n",
       "      <td>-0.001384</td>\n",
       "    </tr>\n",
       "    <tr>\n",
       "      <th>age</th>\n",
       "      <td>-0.003965</td>\n",
       "      <td>1.000000</td>\n",
       "      <td>-0.013134</td>\n",
       "      <td>0.028308</td>\n",
       "      <td>-0.030680</td>\n",
       "      <td>-0.007201</td>\n",
       "    </tr>\n",
       "    <tr>\n",
       "      <th>tenure</th>\n",
       "      <td>-0.000062</td>\n",
       "      <td>-0.013134</td>\n",
       "      <td>1.000000</td>\n",
       "      <td>-0.007911</td>\n",
       "      <td>0.011979</td>\n",
       "      <td>0.010520</td>\n",
       "    </tr>\n",
       "    <tr>\n",
       "      <th>balance</th>\n",
       "      <td>0.006268</td>\n",
       "      <td>0.028308</td>\n",
       "      <td>-0.007911</td>\n",
       "      <td>1.000000</td>\n",
       "      <td>-0.304180</td>\n",
       "      <td>0.012797</td>\n",
       "    </tr>\n",
       "    <tr>\n",
       "      <th>numofproducts</th>\n",
       "      <td>0.012238</td>\n",
       "      <td>-0.030680</td>\n",
       "      <td>0.011979</td>\n",
       "      <td>-0.304180</td>\n",
       "      <td>1.000000</td>\n",
       "      <td>0.014204</td>\n",
       "    </tr>\n",
       "    <tr>\n",
       "      <th>estimatedsalary</th>\n",
       "      <td>-0.001384</td>\n",
       "      <td>-0.007201</td>\n",
       "      <td>0.010520</td>\n",
       "      <td>0.012797</td>\n",
       "      <td>0.014204</td>\n",
       "      <td>1.000000</td>\n",
       "    </tr>\n",
       "  </tbody>\n",
       "</table>\n",
       "</div>"
      ],
      "text/plain": [
       "                 creditscore       age    tenure   balance  numofproducts  \\\n",
       "creditscore         1.000000 -0.003965 -0.000062  0.006268       0.012238   \n",
       "age                -0.003965  1.000000 -0.013134  0.028308      -0.030680   \n",
       "tenure             -0.000062 -0.013134  1.000000 -0.007911       0.011979   \n",
       "balance             0.006268  0.028308 -0.007911  1.000000      -0.304180   \n",
       "numofproducts       0.012238 -0.030680  0.011979 -0.304180       1.000000   \n",
       "estimatedsalary    -0.001384 -0.007201  0.010520  0.012797       0.014204   \n",
       "\n",
       "                 estimatedsalary  \n",
       "creditscore            -0.001384  \n",
       "age                    -0.007201  \n",
       "tenure                  0.010520  \n",
       "balance                 0.012797  \n",
       "numofproducts           0.014204  \n",
       "estimatedsalary         1.000000  "
      ]
     },
     "metadata": {},
     "output_type": "display_data"
    },
    {
     "data": {
      "text/plain": [
       "<AxesSubplot:>"
      ]
     },
     "execution_count": 5,
     "metadata": {},
     "output_type": "execute_result"
    },
    {
     "data": {
      "image/png": "[encoded data removed]",
      "text/plain": [
       "<Figure size 432x288 with 1 Axes>"
      ]
     },
     "metadata": {
      "needs_background": "light"
     },
     "output_type": "display_data"
    }
   ],
   "source": [
    "display(data[['creditscore', 'age', 'tenure', 'balance', 'numofproducts', 'estimatedsalary']].corr())\n",
    "data['tenure'].hist()"
   ]
  },
  {
   "cell_type": "markdown",
   "metadata": {},
   "source": [
    "Данные этого столбца независимы от других. Заполним пропуски случайными значениями для сохранения вида распределения."
   ]
  },
  {
   "cell_type": "code",
   "execution_count": 6,
   "metadata": {},
   "outputs": [
    {
     "data": {
      "text/plain": [
       "<AxesSubplot:>"
      ]
     },
     "execution_count": 6,
     "metadata": {},
     "output_type": "execute_result"
    },
    {
     "data": {
      "image/png": "[encoded data removed]",
      "text/plain": [
       "<Figure size 432x288 with 1 Axes>"
      ]
     },
     "metadata": {
      "needs_background": "light"
     },
     "output_type": "display_data"
    }
   ],
   "source": [
    "for i in data.query('tenure.isna()').index:\n",
    "    data.loc[i, 'tenure'] = (np.random.randint(0, 10))\n",
    "data['tenure'].hist()"
   ]
  },
  {
   "cell_type": "markdown",
   "metadata": {},
   "source": [
    "## Исследование задачи"
   ]
  },
  {
   "cell_type": "markdown",
   "metadata": {},
   "source": [
    "Рассмотрим сбалансированность классов целевого признака."
   ]
  },
  {
   "cell_type": "code",
   "execution_count": 7,
   "metadata": {},
   "outputs": [
    {
     "data": {
      "text/plain": [
       "0    0.7963\n",
       "1    0.2037\n",
       "Name: exited, dtype: float64"
      ]
     },
     "execution_count": 7,
     "metadata": {},
     "output_type": "execute_result"
    }
   ],
   "source": [
    "data['exited'].value_counts(normalize = True)"
   ]
  },
  {
   "cell_type": "markdown",
   "metadata": {},
   "source": [
    "Признаки несбалансированны, соотношение положительного к отрицательному 1:4."
   ]
  },
  {
   "cell_type": "markdown",
   "metadata": {},
   "source": [
    "Найдем оптимальную модель без учета баланса классов целевого признака. Подготовим выборки:"
   ]
  },
  {
   "cell_type": "code",
   "execution_count": 8,
   "metadata": {},
   "outputs": [
    {
     "name": "stdout",
     "output_type": "stream",
     "text": [
      "Размер обучающей выборки 6000 строк.\n",
      "Размер валидационной выборки 2000 строк.\n",
      "Размер тестовой выборки 2000 строк.\n"
     ]
    }
   ],
   "source": [
    "# Помимо целевого призники в features не станем включать столбцы 'surname' и 'customerid', так как данные\n",
    "# из этих столбов никак не могут повлиять на целевой признак\n",
    "features = data.drop(['surname' ,'customerid', 'exited'], axis = 1)\n",
    "features = pd.get_dummies(features, drop_first = True)\n",
    "target = data['exited']\n",
    "features_train, features_valid, target_train, target_valid = train_test_split(\n",
    "    features, target, test_size=0.4, random_state=12345)\n",
    "features_valid, features_test, target_valid, target_test = train_test_split(\n",
    "    features_valid, target_valid, test_size=0.5, random_state=12345)\n",
    "\n",
    "print('Размер обучающей выборки', features_train.shape[0], 'строк.\\nРазмер валидационной выборки', \n",
    "      features_valid.shape[0], 'строк.\\nРазмер тестовой выборки', features_test.shape[0], 'строк.')"
   ]
  },
  {
   "cell_type": "markdown",
   "metadata": {},
   "source": [
    "#### Дерево решений:"
   ]
  },
  {
   "cell_type": "code",
   "execution_count": 9,
   "metadata": {},
   "outputs": [],
   "source": [
    "f1, auc, f1_b, auc_b = [], [], [], []"
   ]
  },
  {
   "cell_type": "code",
   "execution_count": 10,
   "metadata": {},
   "outputs": [
    {
     "name": "stdout",
     "output_type": "stream",
     "text": [
      "CPU times: total: 453 ms\n",
      "Wall time: 444 ms\n"
     ]
    }
   ],
   "source": [
    "%%time\n",
    "best_decisiontree_model = None\n",
    "best_result, max_depth, auc_r = 0, 0, 0\n",
    "for i in range(1, 21):\n",
    "    model = DecisionTreeClassifier(random_state=12345, max_depth=i)\n",
    "    model.fit(features_train, target_train)\n",
    "    predict_valid = model.predict(features_valid)\n",
    "    result = f1_score(target_valid, predict_valid)\n",
    "    if result > best_result:\n",
    "        best_decisiontree_model = model\n",
    "        best_result = result\n",
    "        max_depth = i\n",
    "auc_r = roc_auc_score(target_valid, best_decisiontree_model.predict_proba(features_valid)[:,1])\n",
    "f1.append(round(best_result, 4))\n",
    "auc.append(round(auc_r, 4))"
   ]
  },
  {
   "cell_type": "code",
   "execution_count": 11,
   "metadata": {},
   "outputs": [
    {
     "name": "stdout",
     "output_type": "stream",
     "text": [
      "F1-мера наилучшей модели на валидационной выборке:\t 0.5705614567526556\n",
      "\t\t\t\t\t\t\t при max_depth - 6\n",
      "\n",
      "AUC-ROC наилучшей модели:\t\t\t\t 0.8169410352107139\n"
     ]
    }
   ],
   "source": [
    "print('F1-мера наилучшей модели на валидационной выборке:\\t', best_result)\n",
    "print('\\t\\t\\t\\t\\t\\t\\t при max_depth -', max_depth)\n",
    "print('\\nAUC-ROC наилучшей модели:\\t\\t\\t\\t', auc_r)"
   ]
  },
  {
   "cell_type": "markdown",
   "metadata": {},
   "source": [
    "#### Случайный лес:"
   ]
  },
  {
   "cell_type": "code",
   "execution_count": 12,
   "metadata": {
    "scrolled": true
   },
   "outputs": [
    {
     "name": "stdout",
     "output_type": "stream",
     "text": [
      "CPU times: total: 2min 23s\n",
      "Wall time: 2min 23s\n"
     ]
    }
   ],
   "source": [
    "%%time\n",
    "best_randomforest_model = None\n",
    "best_result, n_estimators, max_depth, auc_r = 0, 0, 0, 0\n",
    "for i in range(10, 161, 10):\n",
    "    for j in range(1, 21):\n",
    "        model = RandomForestClassifier(random_state=12345, n_estimators=i, max_depth = j)\n",
    "        model.fit(features_train, target_train)\n",
    "        predict_valid = model.predict(features_valid)\n",
    "        result = f1_score(target_valid, predict_valid)\n",
    "        if result > best_result:\n",
    "            best_randomforest_model = model\n",
    "            best_result = result\n",
    "            n_estimators = i\n",
    "            max_depth = j\n",
    "auc_r = roc_auc_score(target_valid, best_randomforest_model.predict_proba(features_valid)[:,1])\n",
    "f1.append(round(best_result, 4))\n",
    "auc.append(round(auc_r, 4))"
   ]
  },
  {
   "cell_type": "code",
   "execution_count": 13,
   "metadata": {},
   "outputs": [
    {
     "name": "stdout",
     "output_type": "stream",
     "text": [
      "F1-мера наилучшей модели на валидационной выборке:\t 0.5914634146341463\n",
      "\t\t\t\t\t\t\t при n_estimators - 120\n",
      "\t\t\t\t\t\t\t     max_depth - 12\n",
      "\n",
      "AUC-ROC наилучшей модели:\t\t\t\t 0.8473859628959769\n"
     ]
    }
   ],
   "source": [
    "print('F1-мера наилучшей модели на валидационной выборке:\\t', best_result)\n",
    "print('\\t\\t\\t\\t\\t\\t\\t при n_estimators -', n_estimators)\n",
    "print('\\t\\t\\t\\t\\t\\t\\t     max_depth -', max_depth)\n",
    "print('\\nAUC-ROC наилучшей модели:\\t\\t\\t\\t', auc_r)"
   ]
  },
  {
   "cell_type": "markdown",
   "metadata": {},
   "source": [
    "#### Логистическая регрессия:"
   ]
  },
  {
   "cell_type": "code",
   "execution_count": 14,
   "metadata": {},
   "outputs": [
    {
     "name": "stdout",
     "output_type": "stream",
     "text": [
      "CPU times: total: 750 ms\n",
      "Wall time: 677 ms\n"
     ]
    }
   ],
   "source": [
    "%%time\n",
    "best_logisticregression_model = None\n",
    "best_result,auc_r, solver = 0, 0, None\n",
    "for i in ['newton-cg', 'lbfgs', 'liblinear', 'sag', 'saga']:\n",
    "    model = LogisticRegression(random_state=12345, solver=i)\n",
    "    model.fit(features_train, target_train)\n",
    "    predict_valid = model.predict(features_valid)\n",
    "    result = f1_score(target_valid, predict_valid)\n",
    "    if result > best_result:\n",
    "            best_logisticregression_model = model\n",
    "            best_result = result\n",
    "            solver = i\n",
    "auc_r = roc_auc_score(target_valid, best_logisticregression_model.predict_proba(features_valid)[:,1])\n",
    "f1.append(round(best_result, 4))\n",
    "auc.append(round(auc_r, 4))"
   ]
  },
  {
   "cell_type": "code",
   "execution_count": 15,
   "metadata": {},
   "outputs": [
    {
     "name": "stdout",
     "output_type": "stream",
     "text": [
      "F1-мера модели на валидационной выборке:\t 0.3152364273204904\n",
      "\t\t\t\t\t\t при solver - newton-cg\n",
      "\n",
      "AUC-ROC модели:\t\t\t\t\t 0.7416116719796273\n"
     ]
    }
   ],
   "source": [
    "print('F1-мера модели на валидационной выборке:\\t', best_result)\n",
    "print('\\t\\t\\t\\t\\t\\t при solver -', solver)\n",
    "print('\\nAUC-ROC модели:\\t\\t\\t\\t\\t', auc_r)"
   ]
  },
  {
   "cell_type": "markdown",
   "metadata": {},
   "source": [
    "#### К-ближайших соседей:"
   ]
  },
  {
   "cell_type": "code",
   "execution_count": 16,
   "metadata": {},
   "outputs": [
    {
     "name": "stdout",
     "output_type": "stream",
     "text": [
      "CPU times: total: 11.6 s\n",
      "Wall time: 11.5 s\n"
     ]
    }
   ],
   "source": [
    "%%time\n",
    "best_kneighbors_model = None\n",
    "best_result, n_neighbors, auc_r = 0, 0, 0\n",
    "for i in range(1, 101):\n",
    "    model = KNeighborsClassifier(n_neighbors=i)\n",
    "    model.fit(features_train, target_train)\n",
    "    predict_valid = model.predict(features_valid)\n",
    "    result = f1_score(target_valid, predict_valid)\n",
    "    if result > best_result:\n",
    "        best_kneighbors_model = model\n",
    "        best_result = result\n",
    "        n_neighbors = i\n",
    "auc_r = roc_auc_score(target_valid, best_kneighbors_model.predict_proba(features_valid)[:,1])\n",
    "f1.append(round(best_result, 4))\n",
    "auc.append(round(auc_r, 4))"
   ]
  },
  {
   "cell_type": "code",
   "execution_count": 17,
   "metadata": {
    "scrolled": true
   },
   "outputs": [
    {
     "name": "stdout",
     "output_type": "stream",
     "text": [
      "F1-мера модели на валидационной выборке:\t 0.21980676328502416\n",
      "\t\t\t\t\t\t при n_neighbors - 1\n",
      "\n",
      "AUC-ROC модели:\t\t\t\t\t 0.5080299300140939\n"
     ]
    }
   ],
   "source": [
    "print('F1-мера модели на валидационной выборке:\\t', best_result)\n",
    "print('\\t\\t\\t\\t\\t\\t при n_neighbors -', n_neighbors)\n",
    "print('\\nAUC-ROC модели:\\t\\t\\t\\t\\t', auc_r)"
   ]
  },
  {
   "cell_type": "markdown",
   "metadata": {},
   "source": [
    "### Вывод:"
   ]
  },
  {
   "cell_type": "markdown",
   "metadata": {},
   "source": [
    "Лучше всего себя показала модель случайного леса, затем идут дерево решений и логистическая регрессия. Модель К-ближайших соседей показала очень низкие результаты."
   ]
  },
  {
   "cell_type": "markdown",
   "metadata": {},
   "source": [
    "## Борьба с дисбалансом"
   ]
  },
  {
   "cell_type": "markdown",
   "metadata": {},
   "source": [
    "Обучим модели с учетом дисбаланса классов."
   ]
  },
  {
   "cell_type": "markdown",
   "metadata": {},
   "source": [
    "#### Дерево решений:"
   ]
  },
  {
   "cell_type": "code",
   "execution_count": 18,
   "metadata": {},
   "outputs": [],
   "source": [
    "best_decisiontree_model = None\n",
    "best_result, max_depth, auc_r = 0, 0, 0\n",
    "for i in range(1, 21):\n",
    "    model = DecisionTreeClassifier(random_state=12345, max_depth=i, class_weight = 'balanced')\n",
    "    model.fit(features_train, target_train)\n",
    "    predict_valid = model.predict(features_valid)\n",
    "    result = f1_score(target_valid, predict_valid)\n",
    "    if result > best_result:\n",
    "        best_decisiontree_model = model\n",
    "        best_result = result\n",
    "        max_depth = i\n",
    "auc_r = roc_auc_score(target_valid, best_decisiontree_model.predict_proba(features_valid)[:,1])\n",
    "f1_b.append(round(best_result, 4))\n",
    "auc_b.append(round(auc_r, 4))"
   ]
  },
  {
   "cell_type": "code",
   "execution_count": 19,
   "metadata": {},
   "outputs": [
    {
     "name": "stdout",
     "output_type": "stream",
     "text": [
      "F1-мера наилучшей модели на валидационной выборке:\t 0.5963791267305644\n",
      "\t\t\t\t\t\t\t при max_depth - 5\n",
      "\n",
      "AUC-ROC наилучшей модели:\t\t\t\t 0.8310244134068074\n"
     ]
    }
   ],
   "source": [
    "print('F1-мера наилучшей модели на валидационной выборке:\\t', best_result)\n",
    "print('\\t\\t\\t\\t\\t\\t\\t при max_depth -', max_depth)\n",
    "print('\\nAUC-ROC наилучшей модели:\\t\\t\\t\\t', auc_r)"
   ]
  },
  {
   "cell_type": "markdown",
   "metadata": {},
   "source": [
    "#### Случайный лес:"
   ]
  },
  {
   "cell_type": "code",
   "execution_count": 20,
   "metadata": {},
   "outputs": [],
   "source": [
    "best_randomforest_model = None\n",
    "best_result, n_estimators, max_depth, auc_r = 0, 0, 0, 0\n",
    "for i in range(10, 161, 10):\n",
    "    for j in range(1, 21):\n",
    "        model = RandomForestClassifier(random_state=12345, \n",
    "                                       n_estimators=i, \n",
    "                                       max_depth = j, \n",
    "                                       class_weight = 'balanced')\n",
    "        model.fit(features_train, target_train)\n",
    "        predict_valid = model.predict(features_valid)\n",
    "        result = f1_score(target_valid, predict_valid)\n",
    "        if result > best_result:\n",
    "            best_randomforest_model = model\n",
    "            best_result = result\n",
    "            n_estimators = i\n",
    "            max_depth = j\n",
    "auc_r = roc_auc_score(target_valid, best_randomforest_model.predict_proba(features_valid)[:,1])\n",
    "f1_b.append(round(best_result, 4))\n",
    "auc_b.append(round(auc_r, 4))"
   ]
  },
  {
   "cell_type": "code",
   "execution_count": 21,
   "metadata": {},
   "outputs": [
    {
     "name": "stdout",
     "output_type": "stream",
     "text": [
      "F1-мера наилучшей модели на валидационной выборке:\t 0.6344676180021953\n",
      "\t\t\t\t\t\t\t при n_estimators - 110\n",
      "\t\t\t\t\t\t\t     max_depth - 8\n",
      "\n",
      "AUC-ROC наилучшей модели:\t\t\t\t 0.8548125139881079\n"
     ]
    }
   ],
   "source": [
    "print('F1-мера наилучшей модели на валидационной выборке:\\t', best_result)\n",
    "print('\\t\\t\\t\\t\\t\\t\\t при n_estimators -', n_estimators)\n",
    "print('\\t\\t\\t\\t\\t\\t\\t     max_depth -', max_depth)\n",
    "print('\\nAUC-ROC наилучшей модели:\\t\\t\\t\\t', auc_r)"
   ]
  },
  {
   "cell_type": "markdown",
   "metadata": {},
   "source": [
    "#### Логистическай регрессия:"
   ]
  },
  {
   "cell_type": "code",
   "execution_count": 22,
   "metadata": {},
   "outputs": [],
   "source": [
    "best_logisticregression_model = None\n",
    "best_result, auc_r, solver = 0, 0, None\n",
    "for i in ['newton-cg', 'lbfgs', 'liblinear', 'sag', 'saga']:\n",
    "    model = LogisticRegression(random_state=12345, solver=i, class_weight = 'balanced')\n",
    "    model.fit(features_train, target_train)\n",
    "    predict_valid = model.predict(features_valid)\n",
    "    result = f1_score(target_valid, predict_valid)\n",
    "    if result > best_result:\n",
    "            best_logisticregression_model = model\n",
    "            best_result = result\n",
    "            solver = i\n",
    "auc_r = roc_auc_score(target_valid, best_logisticregression_model.predict_proba(features_valid)[:,1])\n",
    "f1_b.append(round(best_result, 4))\n",
    "auc_b.append(round(auc_r, 4))"
   ]
  },
  {
   "cell_type": "code",
   "execution_count": 23,
   "metadata": {},
   "outputs": [
    {
     "name": "stdout",
     "output_type": "stream",
     "text": [
      "F1-мера модели на валидационной выборке:\t 0.4925124792013311\n",
      "\t\t\t\t\t\t при solver - liblinear\n",
      "\n",
      "AUC-ROC модели:\t\t\t\t\t 0.7544973656990425\n"
     ]
    }
   ],
   "source": [
    "print('F1-мера модели на валидационной выборке:\\t', best_result)\n",
    "print('\\t\\t\\t\\t\\t\\t при solver -', solver)\n",
    "print('\\nAUC-ROC модели:\\t\\t\\t\\t\\t', auc_r)"
   ]
  },
  {
   "cell_type": "code",
   "execution_count": 24,
   "metadata": {},
   "outputs": [],
   "source": [
    "f1_b.append('None')\n",
    "auc_b.append('None')"
   ]
  },
  {
   "cell_type": "code",
   "execution_count": 25,
   "metadata": {
    "scrolled": false
   },
   "outputs": [
    {
     "data": {
      "text/html": [
       "<div>\n",
       "<style scoped>\n",
       "    .dataframe tbody tr th:only-of-type {\n",
       "        vertical-align: middle;\n",
       "    }\n",
       "\n",
       "    .dataframe tbody tr th {\n",
       "        vertical-align: top;\n",
       "    }\n",
       "\n",
       "    .dataframe thead th {\n",
       "        text-align: right;\n",
       "    }\n",
       "</style>\n",
       "<table border=\"1\" class=\"dataframe\">\n",
       "  <thead>\n",
       "    <tr style=\"text-align: right;\">\n",
       "      <th></th>\n",
       "      <th>model</th>\n",
       "      <th>f1_score(auc-roc)</th>\n",
       "      <th>f1_score(auc-roc)_balanced</th>\n",
       "    </tr>\n",
       "  </thead>\n",
       "  <tbody>\n",
       "    <tr>\n",
       "      <th>1</th>\n",
       "      <td>RandomForest</td>\n",
       "      <td>0.5915 (0.8474)</td>\n",
       "      <td>0.6345 (0.8548)</td>\n",
       "    </tr>\n",
       "    <tr>\n",
       "      <th>0</th>\n",
       "      <td>DecisionTree</td>\n",
       "      <td>0.5706 (0.8169)</td>\n",
       "      <td>0.5964 (0.831)</td>\n",
       "    </tr>\n",
       "    <tr>\n",
       "      <th>2</th>\n",
       "      <td>LogisticRegression</td>\n",
       "      <td>0.3152 (0.7416)</td>\n",
       "      <td>0.4925 (0.7545)</td>\n",
       "    </tr>\n",
       "    <tr>\n",
       "      <th>3</th>\n",
       "      <td>KNeighbors</td>\n",
       "      <td>0.2198 (0.508)</td>\n",
       "      <td>None (None)</td>\n",
       "    </tr>\n",
       "  </tbody>\n",
       "</table>\n",
       "</div>"
      ],
      "text/plain": [
       "                model f1_score(auc-roc) f1_score(auc-roc)_balanced\n",
       "1        RandomForest   0.5915 (0.8474)            0.6345 (0.8548)\n",
       "0        DecisionTree   0.5706 (0.8169)             0.5964 (0.831)\n",
       "2  LogisticRegression   0.3152 (0.7416)            0.4925 (0.7545)\n",
       "3          KNeighbors    0.2198 (0.508)                None (None)"
      ]
     },
     "metadata": {},
     "output_type": "display_data"
    }
   ],
   "source": [
    "mln = ['DecisionTree', 'RandomForest', 'LogisticRegression', 'KNeighbors']\n",
    "fa, fa_b = [], []\n",
    "for x, y, i, j in zip(f1, auc, f1_b, auc_b): \n",
    "    fa.append(str(x) + ' (' + str(y) + ')')\n",
    "    fa_b.append(str(i) + ' (' + str(j) + ')')\n",
    "df = pd.DataFrame()\n",
    "df['model'] = mln\n",
    "df['f1_score(auc-roc)'] = fa\n",
    "df['f1_score(auc-roc)_balanced'] = fa_b\n",
    "display(df.sort_values(by = 'f1_score(auc-roc)', ascending = False))"
   ]
  },
  {
   "cell_type": "markdown",
   "metadata": {},
   "source": [
    "### Вывод"
   ]
  },
  {
   "cell_type": "markdown",
   "metadata": {},
   "source": [
    "При учёте несбалансированности классов целевого признака и балансировании весов их значимости все модели, кроме К-ближайших соседей, показывают лучшие результаты, чем без учета баланса классов. Наилучшие показатели снова у Случайного леса: f1-мера - 0.6396, AUC-ROC - 0.8583."
   ]
  },
  {
   "cell_type": "markdown",
   "metadata": {},
   "source": [
    "## Тестирование модели"
   ]
  },
  {
   "cell_type": "markdown",
   "metadata": {},
   "source": [
    "Протестируем модель \"Случайный лес\", показавшую наилучшие результаты."
   ]
  },
  {
   "cell_type": "code",
   "execution_count": 26,
   "metadata": {},
   "outputs": [
    {
     "name": "stdout",
     "output_type": "stream",
     "text": [
      "F1-мера лучшей модели на тестовой выборке - 0.6137339055793991\n"
     ]
    }
   ],
   "source": [
    "predict_test = best_randomforest_model.predict(features_test)\n",
    "print('F1-мера лучшей модели на тестовой выборке -', f1_score(target_test, predict_test))"
   ]
  },
  {
   "cell_type": "code",
   "execution_count": 27,
   "metadata": {},
   "outputs": [
    {
     "name": "stdout",
     "output_type": "stream",
     "text": [
      "F1-мера константы на тестовой выборке - 0.3491539413949649\n"
     ]
    }
   ],
   "source": [
    "predict_cons = pd.Series(1, index = range(len(target_test)))\n",
    "print('F1-мера константы на тестовой выборке -', f1_score(target_test, predict_cons))"
   ]
  },
  {
   "cell_type": "markdown",
   "metadata": {},
   "source": [
    "### Вывод"
   ]
  },
  {
   "cell_type": "markdown",
   "metadata": {},
   "source": [
    "Выбранная нами модель показывает максимальный показатель F1-меры на валидационной и тестовой выборках, что доказывает правильность выбора модели и её гиперпараметров. Так же модель прошла проверку при сравнении с константой.\n",
    "\n",
    "Данная модель готова к работе по предсказанию вероятности ухода клиента из банка."
   ]
  }
 ],
 "metadata": {
  "ExecuteTimeLog": [
   {
    "duration": 499,
    "start_time": "2021-09-05T19:49:01.046Z"
   },
   {
    "duration": 29,
    "start_time": "2021-09-05T19:49:39.419Z"
   },
   {
    "duration": 9,
    "start_time": "2021-09-05T19:50:00.031Z"
   },
   {
    "duration": 22,
    "start_time": "2021-09-05T19:50:22.333Z"
   },
   {
    "duration": 32,
    "start_time": "2021-09-05T20:21:16.272Z"
   },
   {
    "duration": 33,
    "start_time": "2021-09-05T20:21:24.440Z"
   },
   {
    "duration": 19,
    "start_time": "2021-09-05T20:21:44.680Z"
   },
   {
    "duration": 19,
    "start_time": "2021-09-05T20:22:05.975Z"
   },
   {
    "duration": 236,
    "start_time": "2021-09-05T20:22:28.509Z"
   },
   {
    "duration": 218,
    "start_time": "2021-09-05T20:23:54.961Z"
   },
   {
    "duration": 28,
    "start_time": "2021-09-05T20:25:29.147Z"
   },
   {
    "duration": 17,
    "start_time": "2021-09-05T20:25:31.616Z"
   },
   {
    "duration": 175,
    "start_time": "2021-09-05T20:25:43.083Z"
   },
   {
    "duration": 28,
    "start_time": "2021-09-05T20:25:50.300Z"
   },
   {
    "duration": 18,
    "start_time": "2021-09-05T20:25:53.632Z"
   },
   {
    "duration": 191,
    "start_time": "2021-09-05T20:27:33.692Z"
   },
   {
    "duration": 30,
    "start_time": "2021-09-05T20:27:45.641Z"
   },
   {
    "duration": 181,
    "start_time": "2021-09-05T20:27:48.023Z"
   },
   {
    "duration": 181,
    "start_time": "2021-09-05T20:28:11.373Z"
   },
   {
    "duration": 188,
    "start_time": "2021-09-05T20:28:23.492Z"
   },
   {
    "duration": 28,
    "start_time": "2021-09-05T20:28:30.176Z"
   },
   {
    "duration": 214,
    "start_time": "2021-09-05T20:28:32.864Z"
   },
   {
    "duration": 17,
    "start_time": "2021-09-05T20:28:50.633Z"
   },
   {
    "duration": 3,
    "start_time": "2021-09-05T20:44:21.694Z"
   },
   {
    "duration": 182,
    "start_time": "2021-09-05T20:45:08.150Z"
   },
   {
    "duration": 41,
    "start_time": "2021-09-05T20:45:23.886Z"
   },
   {
    "duration": 185,
    "start_time": "2021-09-05T20:45:29.029Z"
   },
   {
    "duration": 170,
    "start_time": "2021-09-05T20:45:40.696Z"
   },
   {
    "duration": 170,
    "start_time": "2021-09-05T20:46:01.424Z"
   },
   {
    "duration": 40,
    "start_time": "2021-09-05T20:53:12.265Z"
   },
   {
    "duration": 5,
    "start_time": "2021-09-05T20:53:29.779Z"
   },
   {
    "duration": 606,
    "start_time": "2021-09-08T06:17:51.272Z"
   },
   {
    "duration": 52,
    "start_time": "2021-09-08T06:17:54.353Z"
   },
   {
    "duration": 6,
    "start_time": "2021-09-08T06:18:01.874Z"
   },
   {
    "duration": 72,
    "start_time": "2021-09-08T06:20:19.381Z"
   },
   {
    "duration": 275,
    "start_time": "2021-09-08T06:20:48.460Z"
   },
   {
    "duration": 169,
    "start_time": "2021-09-08T06:21:29.090Z"
   },
   {
    "duration": 161,
    "start_time": "2021-09-08T06:23:10.500Z"
   },
   {
    "duration": 697,
    "start_time": "2021-09-08T06:33:01.908Z"
   },
   {
    "duration": 48,
    "start_time": "2021-09-08T06:33:02.607Z"
   },
   {
    "duration": 5,
    "start_time": "2021-09-08T06:33:02.657Z"
   },
   {
    "duration": 188,
    "start_time": "2021-09-08T06:33:02.664Z"
   },
   {
    "duration": 181,
    "start_time": "2021-09-08T06:33:02.854Z"
   },
   {
    "duration": 674,
    "start_time": "2021-09-08T06:38:33.209Z"
   },
   {
    "duration": 45,
    "start_time": "2021-09-08T06:38:33.885Z"
   },
   {
    "duration": 5,
    "start_time": "2021-09-08T06:38:33.932Z"
   },
   {
    "duration": 183,
    "start_time": "2021-09-08T06:38:33.939Z"
   },
   {
    "duration": 308,
    "start_time": "2021-09-08T06:38:34.123Z"
   },
   {
    "duration": 78,
    "start_time": "2021-09-08T07:43:05.312Z"
   },
   {
    "duration": 85,
    "start_time": "2021-09-08T07:43:21.252Z"
   },
   {
    "duration": 165,
    "start_time": "2021-09-08T07:43:38.352Z"
   },
   {
    "duration": 161,
    "start_time": "2021-09-08T07:44:06.364Z"
   },
   {
    "duration": 170,
    "start_time": "2021-09-08T07:44:20.377Z"
   },
   {
    "duration": 701,
    "start_time": "2021-09-08T07:44:52.190Z"
   },
   {
    "duration": 48,
    "start_time": "2021-09-08T07:44:55.022Z"
   },
   {
    "duration": 6,
    "start_time": "2021-09-08T07:45:01.191Z"
   },
   {
    "duration": 174,
    "start_time": "2021-09-08T07:45:03.801Z"
   },
   {
    "duration": 166,
    "start_time": "2021-09-08T07:45:08.618Z"
   },
   {
    "duration": 173,
    "start_time": "2021-09-08T07:45:21.090Z"
   },
   {
    "duration": 370,
    "start_time": "2021-09-08T07:45:43.856Z"
   },
   {
    "duration": 165,
    "start_time": "2021-09-08T07:46:03.155Z"
   },
   {
    "duration": 229,
    "start_time": "2021-09-08T07:46:19.040Z"
   },
   {
    "duration": 288,
    "start_time": "2021-09-08T07:46:48.959Z"
   },
   {
    "duration": 7714,
    "start_time": "2021-09-08T07:48:37.919Z"
   },
   {
    "duration": 281,
    "start_time": "2021-09-08T07:49:16.234Z"
   },
   {
    "duration": 20,
    "start_time": "2021-09-08T07:49:45.635Z"
   },
   {
    "duration": 272,
    "start_time": "2021-09-08T07:50:45.169Z"
   },
   {
    "duration": 6156,
    "start_time": "2021-09-08T07:51:34.192Z"
   },
   {
    "duration": 447,
    "start_time": "2021-09-08T07:52:20.965Z"
   },
   {
    "duration": 15,
    "start_time": "2021-09-08T07:55:21.754Z"
   },
   {
    "duration": 546,
    "start_time": "2021-09-08T07:55:58.800Z"
   },
   {
    "duration": 249,
    "start_time": "2021-09-08T08:09:00.595Z"
   },
   {
    "duration": 251,
    "start_time": "2021-09-08T08:09:22.924Z"
   },
   {
    "duration": 245,
    "start_time": "2021-09-08T08:09:39.708Z"
   },
   {
    "duration": 277,
    "start_time": "2021-09-08T08:09:45.494Z"
   },
   {
    "duration": 43,
    "start_time": "2021-09-08T08:10:23.304Z"
   },
   {
    "duration": 46,
    "start_time": "2021-09-08T08:10:41.175Z"
   },
   {
    "duration": 43,
    "start_time": "2021-09-08T08:10:59.523Z"
   },
   {
    "duration": 6203,
    "start_time": "2021-09-08T08:11:59.104Z"
   },
   {
    "duration": 6,
    "start_time": "2021-09-08T08:12:24.019Z"
   },
   {
    "duration": 243,
    "start_time": "2021-09-08T08:12:27.019Z"
   },
   {
    "duration": 625,
    "start_time": "2021-09-08T08:13:22.715Z"
   },
   {
    "duration": 286,
    "start_time": "2021-09-08T08:13:33.068Z"
   },
   {
    "duration": 257,
    "start_time": "2021-09-08T08:13:53.046Z"
   },
   {
    "duration": 17,
    "start_time": "2021-09-08T08:17:26.346Z"
   },
   {
    "duration": 17,
    "start_time": "2021-09-08T08:17:33.649Z"
   },
   {
    "duration": 47,
    "start_time": "2021-09-08T08:19:16.659Z"
   },
   {
    "duration": 6,
    "start_time": "2021-09-08T08:19:33.566Z"
   },
   {
    "duration": 17,
    "start_time": "2021-09-08T08:19:37.283Z"
   },
   {
    "duration": 167,
    "start_time": "2021-09-08T08:20:53.441Z"
   },
   {
    "duration": 178,
    "start_time": "2021-09-08T08:21:14.291Z"
   },
   {
    "duration": 472,
    "start_time": "2021-09-08T08:25:18.466Z"
   },
   {
    "duration": 6,
    "start_time": "2021-09-08T08:37:21.662Z"
   },
   {
    "duration": 230,
    "start_time": "2021-09-08T08:37:58.135Z"
   },
   {
    "duration": 7,
    "start_time": "2021-09-08T08:38:04.254Z"
   },
   {
    "duration": 276,
    "start_time": "2021-09-08T08:44:30.132Z"
   },
   {
    "duration": 5,
    "start_time": "2021-09-08T08:44:52.504Z"
   },
   {
    "duration": 258,
    "start_time": "2021-09-08T09:19:13.861Z"
   },
   {
    "duration": 478,
    "start_time": "2021-09-08T09:19:54.147Z"
   },
   {
    "duration": 15,
    "start_time": "2021-09-08T09:20:04.368Z"
   },
   {
    "duration": 33,
    "start_time": "2021-09-08T09:23:59.184Z"
   },
   {
    "duration": 25,
    "start_time": "2021-09-08T09:32:49.778Z"
   },
   {
    "duration": 16,
    "start_time": "2021-09-08T09:33:09.414Z"
   },
   {
    "duration": 6,
    "start_time": "2021-09-08T09:34:33.308Z"
   },
   {
    "duration": 19,
    "start_time": "2021-09-08T10:36:15.862Z"
   },
   {
    "duration": 3,
    "start_time": "2021-09-08T10:42:54.317Z"
   },
   {
    "duration": 204,
    "start_time": "2021-09-08T11:04:41.101Z"
   },
   {
    "duration": 291,
    "start_time": "2021-09-08T11:05:11.411Z"
   },
   {
    "duration": 434,
    "start_time": "2021-09-08T11:12:23.513Z"
   },
   {
    "duration": 182,
    "start_time": "2021-09-08T11:17:05.387Z"
   },
   {
    "duration": 4,
    "start_time": "2021-09-08T11:17:35.750Z"
   },
   {
    "duration": 419,
    "start_time": "2021-09-08T11:18:24.042Z"
   },
   {
    "duration": 542,
    "start_time": "2021-09-08T11:18:33.271Z"
   },
   {
    "duration": 417,
    "start_time": "2021-09-08T11:18:42.456Z"
   },
   {
    "duration": 428,
    "start_time": "2021-09-08T11:18:55.565Z"
   },
   {
    "duration": 437,
    "start_time": "2021-09-08T11:19:04.213Z"
   },
   {
    "duration": 428,
    "start_time": "2021-09-08T11:19:21.305Z"
   },
   {
    "duration": 420,
    "start_time": "2021-09-08T11:21:01.223Z"
   },
   {
    "duration": 424,
    "start_time": "2021-09-08T11:32:11.740Z"
   },
   {
    "duration": 419,
    "start_time": "2021-09-08T11:33:08.410Z"
   },
   {
    "duration": 436,
    "start_time": "2021-09-08T11:35:30.183Z"
   },
   {
    "duration": 8,
    "start_time": "2021-09-08T11:35:34.682Z"
   },
   {
    "duration": 418,
    "start_time": "2021-09-08T11:38:39.968Z"
   },
   {
    "duration": 9,
    "start_time": "2021-09-08T11:38:42.848Z"
   },
   {
    "duration": 89554,
    "start_time": "2021-09-08T11:44:14.848Z"
   },
   {
    "duration": 13,
    "start_time": "2021-09-08T11:48:55.819Z"
   },
   {
    "duration": 13,
    "start_time": "2021-09-08T11:49:03.716Z"
   },
   {
    "duration": 8438,
    "start_time": "2021-09-08T11:50:30.116Z"
   },
   {
    "duration": 6,
    "start_time": "2021-09-08T11:50:56.267Z"
   },
   {
    "duration": 42,
    "start_time": "2021-09-08T11:52:25.786Z"
   },
   {
    "duration": 244,
    "start_time": "2021-09-08T11:54:12.293Z"
   },
   {
    "duration": 4,
    "start_time": "2021-09-08T11:54:44.913Z"
   },
   {
    "duration": 130483,
    "start_time": "2021-09-08T11:55:12.755Z"
   },
   {
    "duration": 41,
    "start_time": "2021-09-08T11:57:46.888Z"
   },
   {
    "duration": 32,
    "start_time": "2021-09-08T12:02:45.278Z"
   },
   {
    "duration": 28,
    "start_time": "2021-09-08T12:03:54.819Z"
   },
   {
    "duration": 9,
    "start_time": "2021-09-08T12:04:42.938Z"
   },
   {
    "duration": 12,
    "start_time": "2021-09-08T12:04:52.245Z"
   },
   {
    "duration": 4612,
    "start_time": "2021-09-08T12:10:29.786Z"
   },
   {
    "duration": 15,
    "start_time": "2021-09-08T12:10:40.218Z"
   },
   {
    "duration": 253,
    "start_time": "2021-09-08T12:17:27.107Z"
   },
   {
    "duration": 7269,
    "start_time": "2021-09-08T12:17:30.523Z"
   },
   {
    "duration": 16,
    "start_time": "2021-09-08T12:17:41.302Z"
   },
   {
    "duration": 15,
    "start_time": "2021-09-08T12:17:49.758Z"
   },
   {
    "duration": 243,
    "start_time": "2021-09-08T12:26:34.226Z"
   },
   {
    "duration": 7955,
    "start_time": "2021-09-08T12:26:47.772Z"
   },
   {
    "duration": 17,
    "start_time": "2021-09-08T12:27:52.019Z"
   },
   {
    "duration": 4732,
    "start_time": "2021-09-08T12:28:28.530Z"
   },
   {
    "duration": 243,
    "start_time": "2021-09-08T12:28:35.891Z"
   },
   {
    "duration": 8877,
    "start_time": "2021-09-08T12:29:32.443Z"
   },
   {
    "duration": 18,
    "start_time": "2021-09-08T12:29:46.362Z"
   },
   {
    "duration": 8072,
    "start_time": "2021-09-08T12:30:48.786Z"
   },
   {
    "duration": 18,
    "start_time": "2021-09-08T12:31:02.152Z"
   },
   {
    "duration": 260,
    "start_time": "2021-09-08T12:36:57.812Z"
   },
   {
    "duration": 431,
    "start_time": "2021-09-08T12:37:03.469Z"
   },
   {
    "duration": 8,
    "start_time": "2021-09-08T12:37:33.552Z"
   },
   {
    "duration": 132528,
    "start_time": "2021-09-08T12:42:33.774Z"
   },
   {
    "duration": 47,
    "start_time": "2021-09-08T12:45:23.598Z"
   },
   {
    "duration": 9009,
    "start_time": "2021-09-08T12:47:04.483Z"
   },
   {
    "duration": 10,
    "start_time": "2021-09-08T12:47:55.956Z"
   },
   {
    "duration": 291,
    "start_time": "2021-09-08T12:49:36.705Z"
   },
   {
    "duration": 3,
    "start_time": "2021-09-08T12:56:53.620Z"
   },
   {
    "duration": 1341,
    "start_time": "2021-09-08T12:58:10.890Z"
   },
   {
    "duration": 48,
    "start_time": "2021-09-08T12:58:12.233Z"
   },
   {
    "duration": 5,
    "start_time": "2021-09-08T12:58:12.284Z"
   },
   {
    "duration": 187,
    "start_time": "2021-09-08T12:58:12.290Z"
   },
   {
    "duration": 455,
    "start_time": "2021-09-08T12:58:12.479Z"
   },
   {
    "duration": 8,
    "start_time": "2021-09-08T12:58:12.937Z"
   },
   {
    "duration": 23,
    "start_time": "2021-09-08T12:58:12.947Z"
   },
   {
    "duration": 412,
    "start_time": "2021-09-08T12:58:12.992Z"
   },
   {
    "duration": 8,
    "start_time": "2021-09-08T12:58:13.405Z"
   },
   {
    "duration": 133024,
    "start_time": "2021-09-08T12:58:13.415Z"
   },
   {
    "duration": 30,
    "start_time": "2021-09-08T13:00:26.441Z"
   },
   {
    "duration": 7919,
    "start_time": "2021-09-08T13:00:26.473Z"
   },
   {
    "duration": 101,
    "start_time": "2021-09-08T13:00:34.394Z"
   },
   {
    "duration": 7658,
    "start_time": "2021-09-08T13:00:34.498Z"
   },
   {
    "duration": 16,
    "start_time": "2021-09-08T13:00:42.158Z"
   },
   {
    "duration": 437,
    "start_time": "2021-09-08T13:00:42.176Z"
   },
   {
    "duration": 6,
    "start_time": "2021-09-08T13:00:42.615Z"
   },
   {
    "duration": 131933,
    "start_time": "2021-09-08T13:00:42.623Z"
   },
   {
    "duration": 55,
    "start_time": "2021-09-08T13:02:54.557Z"
   },
   {
    "duration": 8178,
    "start_time": "2021-09-08T13:02:54.614Z"
   },
   {
    "duration": 100,
    "start_time": "2021-09-08T13:03:02.795Z"
   },
   {
    "duration": 3,
    "start_time": "2021-09-08T13:43:40.653Z"
   },
   {
    "duration": 78,
    "start_time": "2021-09-08T13:46:08.646Z"
   },
   {
    "duration": 440,
    "start_time": "2021-09-08T13:46:22.603Z"
   },
   {
    "duration": 77,
    "start_time": "2021-09-08T13:46:26.363Z"
   },
   {
    "duration": 6,
    "start_time": "2021-09-08T13:46:39.048Z"
   },
   {
    "duration": 1211,
    "start_time": "2021-09-08T14:01:20.454Z"
   },
   {
    "duration": 50,
    "start_time": "2021-09-08T14:01:21.667Z"
   },
   {
    "duration": 7,
    "start_time": "2021-09-08T14:01:21.720Z"
   },
   {
    "duration": 223,
    "start_time": "2021-09-08T14:01:21.729Z"
   },
   {
    "duration": 481,
    "start_time": "2021-09-08T14:01:21.954Z"
   },
   {
    "duration": 10,
    "start_time": "2021-09-08T14:01:22.438Z"
   },
   {
    "duration": 49,
    "start_time": "2021-09-08T14:01:22.450Z"
   },
   {
    "duration": 3,
    "start_time": "2021-09-08T14:01:22.503Z"
   },
   {
    "duration": 457,
    "start_time": "2021-09-08T14:01:22.508Z"
   },
   {
    "duration": 4,
    "start_time": "2021-09-08T14:01:22.967Z"
   },
   {
    "duration": 133419,
    "start_time": "2021-09-08T14:01:22.972Z"
   },
   {
    "duration": 5,
    "start_time": "2021-09-08T14:03:36.393Z"
   },
   {
    "duration": 7405,
    "start_time": "2021-09-08T14:03:36.400Z"
   },
   {
    "duration": 6,
    "start_time": "2021-09-08T14:03:43.893Z"
   },
   {
    "duration": 8054,
    "start_time": "2021-09-08T14:03:43.901Z"
   },
   {
    "duration": 4,
    "start_time": "2021-09-08T14:03:51.957Z"
   },
   {
    "duration": 482,
    "start_time": "2021-09-08T14:03:51.964Z"
   },
   {
    "duration": 4,
    "start_time": "2021-09-08T14:03:52.448Z"
   },
   {
    "duration": 134338,
    "start_time": "2021-09-08T14:03:52.453Z"
   },
   {
    "duration": 4,
    "start_time": "2021-09-08T14:06:06.793Z"
   },
   {
    "duration": 91,
    "start_time": "2021-09-08T14:06:06.799Z"
   },
   {
    "duration": 1235,
    "start_time": "2021-09-08T14:06:05.657Z"
   },
   {
    "duration": 1232,
    "start_time": "2021-09-08T14:06:05.661Z"
   },
   {
    "duration": 91,
    "start_time": "2021-09-08T14:13:17.390Z"
   },
   {
    "duration": 10214,
    "start_time": "2021-09-08T14:13:35.099Z"
   },
   {
    "duration": 9486,
    "start_time": "2021-09-08T14:13:52.315Z"
   },
   {
    "duration": 90,
    "start_time": "2021-09-08T14:14:01.804Z"
   },
   {
    "duration": 323,
    "start_time": "2021-09-08T14:35:56.140Z"
   },
   {
    "duration": 241,
    "start_time": "2021-09-08T14:36:07.447Z"
   },
   {
    "duration": 240,
    "start_time": "2021-09-08T14:36:21.129Z"
   },
   {
    "duration": 12,
    "start_time": "2021-09-08T14:36:53.124Z"
   },
   {
    "duration": 14,
    "start_time": "2021-09-08T14:37:38.710Z"
   },
   {
    "duration": 12,
    "start_time": "2021-09-08T14:38:22.878Z"
   },
   {
    "duration": 13,
    "start_time": "2021-09-08T14:40:36.268Z"
   },
   {
    "duration": 4,
    "start_time": "2021-09-08T14:41:20.606Z"
   },
   {
    "duration": 1108,
    "start_time": "2021-09-08T14:41:51.924Z"
   },
   {
    "duration": 46,
    "start_time": "2021-09-08T14:41:53.034Z"
   },
   {
    "duration": 5,
    "start_time": "2021-09-08T14:41:53.082Z"
   },
   {
    "duration": 189,
    "start_time": "2021-09-08T14:41:53.088Z"
   },
   {
    "duration": 464,
    "start_time": "2021-09-08T14:41:53.279Z"
   },
   {
    "duration": 7,
    "start_time": "2021-09-08T14:41:53.744Z"
   },
   {
    "duration": 36,
    "start_time": "2021-09-08T14:41:53.753Z"
   },
   {
    "duration": 15,
    "start_time": "2021-09-08T14:41:53.791Z"
   },
   {
    "duration": 429,
    "start_time": "2021-09-08T14:41:53.808Z"
   },
   {
    "duration": 4,
    "start_time": "2021-09-08T14:41:54.238Z"
   },
   {
    "duration": 135197,
    "start_time": "2021-09-08T14:41:54.244Z"
   },
   {
    "duration": 5,
    "start_time": "2021-09-08T14:44:09.443Z"
   },
   {
    "duration": 9849,
    "start_time": "2021-09-08T14:44:09.450Z"
   },
   {
    "duration": 7,
    "start_time": "2021-09-08T14:44:19.394Z"
   },
   {
    "duration": 7691,
    "start_time": "2021-09-08T14:44:19.491Z"
   },
   {
    "duration": 8,
    "start_time": "2021-09-08T14:44:27.184Z"
   },
   {
    "duration": 442,
    "start_time": "2021-09-08T14:44:27.193Z"
   },
   {
    "duration": 4,
    "start_time": "2021-09-08T14:44:27.637Z"
   },
   {
    "duration": 131157,
    "start_time": "2021-09-08T14:44:27.642Z"
   },
   {
    "duration": 4,
    "start_time": "2021-09-08T14:46:38.801Z"
   },
   {
    "duration": 9102,
    "start_time": "2021-09-08T14:46:38.807Z"
   },
   {
    "duration": 83,
    "start_time": "2021-09-08T14:46:47.911Z"
   },
   {
    "duration": 439,
    "start_time": "2021-09-08T14:46:47.998Z"
   },
   {
    "duration": 1277,
    "start_time": "2021-09-08T14:46:47.163Z"
   },
   {
    "duration": 239,
    "start_time": "2021-09-08T14:47:15.394Z"
   },
   {
    "duration": 4,
    "start_time": "2021-09-08T14:47:57.913Z"
   },
   {
    "duration": 333,
    "start_time": "2021-09-08T14:48:16.478Z"
   },
   {
    "duration": 4,
    "start_time": "2021-09-08T14:48:20.044Z"
   },
   {
    "duration": 310,
    "start_time": "2021-09-08T14:48:35.827Z"
   },
   {
    "duration": 239,
    "start_time": "2021-09-08T14:48:42.166Z"
   },
   {
    "duration": 254,
    "start_time": "2021-09-08T14:48:54.838Z"
   },
   {
    "duration": 1153,
    "start_time": "2021-09-08T14:56:23.088Z"
   },
   {
    "duration": 47,
    "start_time": "2021-09-08T14:56:24.243Z"
   },
   {
    "duration": 5,
    "start_time": "2021-09-08T14:56:24.292Z"
   },
   {
    "duration": 194,
    "start_time": "2021-09-08T14:56:24.298Z"
   },
   {
    "duration": 473,
    "start_time": "2021-09-08T14:56:24.494Z"
   },
   {
    "duration": 7,
    "start_time": "2021-09-08T14:56:24.968Z"
   },
   {
    "duration": 32,
    "start_time": "2021-09-08T14:56:24.976Z"
   },
   {
    "duration": 3,
    "start_time": "2021-09-08T14:56:25.010Z"
   },
   {
    "duration": 439,
    "start_time": "2021-09-08T14:56:25.014Z"
   },
   {
    "duration": 3,
    "start_time": "2021-09-08T14:56:25.455Z"
   },
   {
    "duration": 134442,
    "start_time": "2021-09-08T14:56:25.460Z"
   },
   {
    "duration": 4,
    "start_time": "2021-09-08T14:58:39.903Z"
   },
   {
    "duration": 8286,
    "start_time": "2021-09-08T14:58:39.909Z"
   },
   {
    "duration": 95,
    "start_time": "2021-09-08T14:58:48.197Z"
   },
   {
    "duration": 7709,
    "start_time": "2021-09-08T14:58:48.294Z"
   },
   {
    "duration": 4,
    "start_time": "2021-09-08T14:58:56.004Z"
   },
   {
    "duration": 440,
    "start_time": "2021-09-08T14:58:56.009Z"
   },
   {
    "duration": 4,
    "start_time": "2021-09-08T14:58:56.451Z"
   },
   {
    "duration": 132561,
    "start_time": "2021-09-08T14:58:56.456Z"
   },
   {
    "duration": 4,
    "start_time": "2021-09-08T15:01:09.019Z"
   },
   {
    "duration": 9067,
    "start_time": "2021-09-08T15:01:09.025Z"
   },
   {
    "duration": 6,
    "start_time": "2021-09-08T15:01:18.095Z"
   },
   {
    "duration": 3,
    "start_time": "2021-09-08T15:01:18.193Z"
   },
   {
    "duration": 32,
    "start_time": "2021-09-08T15:01:18.198Z"
   },
   {
    "duration": 27,
    "start_time": "2021-09-08T15:01:18.232Z"
   },
   {
    "duration": 13,
    "start_time": "2021-09-08T15:02:55.516Z"
   },
   {
    "duration": 1096,
    "start_time": "2021-09-08T15:27:45.737Z"
   },
   {
    "duration": 48,
    "start_time": "2021-09-08T15:27:46.834Z"
   },
   {
    "duration": 5,
    "start_time": "2021-09-08T15:27:46.884Z"
   },
   {
    "duration": 183,
    "start_time": "2021-09-08T15:27:46.891Z"
   },
   {
    "duration": 458,
    "start_time": "2021-09-08T15:27:47.076Z"
   },
   {
    "duration": 7,
    "start_time": "2021-09-08T15:27:47.535Z"
   },
   {
    "duration": 25,
    "start_time": "2021-09-08T15:27:47.544Z"
   },
   {
    "duration": 3,
    "start_time": "2021-09-08T15:27:47.571Z"
   },
   {
    "duration": 420,
    "start_time": "2021-09-08T15:27:47.576Z"
   },
   {
    "duration": 3,
    "start_time": "2021-09-08T15:27:47.998Z"
   },
   {
    "duration": 130270,
    "start_time": "2021-09-08T15:27:48.003Z"
   },
   {
    "duration": 5,
    "start_time": "2021-09-08T15:29:58.275Z"
   },
   {
    "duration": 7208,
    "start_time": "2021-09-08T15:29:58.291Z"
   },
   {
    "duration": 5,
    "start_time": "2021-09-08T15:30:05.594Z"
   },
   {
    "duration": 7746,
    "start_time": "2021-09-08T15:30:05.602Z"
   },
   {
    "duration": 4,
    "start_time": "2021-09-08T15:30:13.350Z"
   },
   {
    "duration": 450,
    "start_time": "2021-09-08T15:30:13.355Z"
   },
   {
    "duration": 3,
    "start_time": "2021-09-08T15:30:13.807Z"
   },
   {
    "duration": 252767,
    "start_time": "2021-09-08T15:30:13.812Z"
   },
   {
    "duration": 4,
    "start_time": "2021-09-08T15:34:26.581Z"
   },
   {
    "duration": 8317,
    "start_time": "2021-09-08T15:34:26.592Z"
   },
   {
    "duration": 5,
    "start_time": "2021-09-08T15:34:34.993Z"
   },
   {
    "duration": 94,
    "start_time": "2021-09-08T15:34:35.003Z"
   },
   {
    "duration": 15,
    "start_time": "2021-09-08T15:34:35.099Z"
   },
   {
    "duration": 454,
    "start_time": "2021-09-08T15:34:35.115Z"
   },
   {
    "duration": 30,
    "start_time": "2021-09-08T15:45:25.772Z"
   },
   {
    "duration": 30,
    "start_time": "2021-09-08T15:50:29.944Z"
   },
   {
    "duration": 4,
    "start_time": "2021-09-08T16:22:32.556Z"
   },
   {
    "duration": 7,
    "start_time": "2021-09-08T16:27:58.225Z"
   },
   {
    "duration": 29,
    "start_time": "2021-09-08T16:29:19.072Z"
   },
   {
    "duration": 7,
    "start_time": "2021-09-08T16:31:00.362Z"
   },
   {
    "duration": 1175,
    "start_time": "2021-09-08T16:42:21.345Z"
   },
   {
    "duration": 48,
    "start_time": "2021-09-08T16:42:22.522Z"
   },
   {
    "duration": 6,
    "start_time": "2021-09-08T16:42:22.573Z"
   },
   {
    "duration": 203,
    "start_time": "2021-09-08T16:42:22.581Z"
   },
   {
    "duration": 534,
    "start_time": "2021-09-08T16:42:22.786Z"
   },
   {
    "duration": 8,
    "start_time": "2021-09-08T16:42:23.322Z"
   },
   {
    "duration": 28,
    "start_time": "2021-09-08T16:42:23.331Z"
   },
   {
    "duration": 3,
    "start_time": "2021-09-08T16:42:23.361Z"
   },
   {
    "duration": 461,
    "start_time": "2021-09-08T16:42:23.367Z"
   },
   {
    "duration": 4,
    "start_time": "2021-09-08T16:42:23.830Z"
   },
   {
    "duration": 130922,
    "start_time": "2021-09-08T16:42:23.836Z"
   },
   {
    "duration": 4,
    "start_time": "2021-09-08T16:44:34.760Z"
   },
   {
    "duration": 8764,
    "start_time": "2021-09-08T16:44:34.766Z"
   },
   {
    "duration": 63,
    "start_time": "2021-09-08T16:44:43.531Z"
   },
   {
    "duration": 7683,
    "start_time": "2021-09-08T16:44:43.597Z"
   },
   {
    "duration": 11,
    "start_time": "2021-09-08T16:44:51.282Z"
   },
   {
    "duration": 440,
    "start_time": "2021-09-08T16:44:51.294Z"
   },
   {
    "duration": 4,
    "start_time": "2021-09-08T16:44:51.736Z"
   },
   {
    "duration": 131067,
    "start_time": "2021-09-08T16:44:51.741Z"
   },
   {
    "duration": 5,
    "start_time": "2021-09-08T16:47:02.809Z"
   },
   {
    "duration": 8880,
    "start_time": "2021-09-08T16:47:02.816Z"
   },
   {
    "duration": 95,
    "start_time": "2021-09-08T16:47:11.699Z"
   },
   {
    "duration": 100,
    "start_time": "2021-09-08T16:47:11.798Z"
   },
   {
    "duration": 29,
    "start_time": "2021-09-08T16:47:11.900Z"
   },
   {
    "duration": 33,
    "start_time": "2021-09-08T16:47:11.931Z"
   },
   {
    "duration": 6,
    "start_time": "2021-09-08T16:47:11.966Z"
   },
   {
    "duration": 1485,
    "start_time": "2021-09-09T04:54:49.073Z"
   },
   {
    "duration": 64,
    "start_time": "2021-09-09T04:54:50.561Z"
   },
   {
    "duration": 8,
    "start_time": "2021-09-09T04:55:22.483Z"
   },
   {
    "duration": 309,
    "start_time": "2021-09-09T04:58:01.234Z"
   },
   {
    "duration": 873,
    "start_time": "2021-09-09T04:59:49.536Z"
   },
   {
    "duration": 10,
    "start_time": "2021-09-09T05:03:06.954Z"
   },
   {
    "duration": 33,
    "start_time": "2021-09-09T05:03:32.029Z"
   },
   {
    "duration": 4,
    "start_time": "2021-09-09T05:04:04.853Z"
   },
   {
    "duration": 697,
    "start_time": "2021-09-09T05:04:06.229Z"
   },
   {
    "duration": 5,
    "start_time": "2021-09-09T05:04:07.948Z"
   },
   {
    "duration": 205093,
    "start_time": "2021-09-09T05:04:19.861Z"
   },
   {
    "duration": 5,
    "start_time": "2021-09-09T05:07:44.957Z"
   },
   {
    "duration": 9557,
    "start_time": "2021-09-09T05:07:44.965Z"
   },
   {
    "duration": 95,
    "start_time": "2021-09-09T05:07:54.525Z"
   },
   {
    "duration": 12669,
    "start_time": "2021-09-09T05:07:54.624Z"
   },
   {
    "duration": 5,
    "start_time": "2021-09-09T05:08:07.295Z"
   },
   {
    "duration": 612,
    "start_time": "2021-09-09T05:27:51.238Z"
   },
   {
    "duration": 5,
    "start_time": "2021-09-09T05:27:52.808Z"
   },
   {
    "duration": 203765,
    "start_time": "2021-09-09T05:27:54.992Z"
   },
   {
    "duration": 6,
    "start_time": "2021-09-09T05:31:18.759Z"
   },
   {
    "duration": 12654,
    "start_time": "2021-09-09T05:31:18.767Z"
   },
   {
    "duration": 96,
    "start_time": "2021-09-09T05:31:31.425Z"
   },
   {
    "duration": 92,
    "start_time": "2021-09-09T05:31:31.524Z"
   },
   {
    "duration": 23,
    "start_time": "2021-09-09T05:31:31.619Z"
   },
   {
    "duration": 75,
    "start_time": "2021-09-09T05:31:31.645Z"
   },
   {
    "duration": 9,
    "start_time": "2021-09-09T05:31:31.723Z"
   },
   {
    "duration": 7,
    "start_time": "2021-09-09T05:46:36.913Z"
   },
   {
    "duration": 8,
    "start_time": "2021-09-09T05:46:38.169Z"
   },
   {
    "duration": 7,
    "start_time": "2021-09-09T05:47:08.578Z"
   },
   {
    "duration": 11,
    "start_time": "2021-09-09T05:47:32.977Z"
   },
   {
    "duration": 376,
    "start_time": "2021-09-13T08:03:37.307Z"
   },
   {
    "duration": 1394,
    "start_time": "2021-09-13T08:03:46.985Z"
   },
   {
    "duration": 56,
    "start_time": "2021-09-13T08:03:50.187Z"
   },
   {
    "duration": 6,
    "start_time": "2021-09-13T08:03:58.140Z"
   },
   {
    "duration": 758,
    "start_time": "2021-09-13T08:04:05.403Z"
   },
   {
    "duration": 11,
    "start_time": "2021-09-13T08:04:15.759Z"
   },
   {
    "duration": 34,
    "start_time": "2021-09-13T08:04:24.600Z"
   },
   {
    "duration": 184595,
    "start_time": "2021-09-13T08:04:39.726Z"
   },
   {
    "duration": 4,
    "start_time": "2021-09-13T08:12:45.149Z"
   },
   {
    "duration": 185415,
    "start_time": "2021-09-13T08:12:56.712Z"
   },
   {
    "duration": 6,
    "start_time": "2021-09-13T08:16:21.201Z"
   },
   {
    "duration": 27,
    "start_time": "2021-09-13T08:16:24.395Z"
   },
   {
    "duration": 1366,
    "start_time": "2021-09-13T09:55:11.117Z"
   },
   {
    "duration": 59,
    "start_time": "2021-09-13T09:55:12.485Z"
   },
   {
    "duration": 6,
    "start_time": "2021-09-13T09:55:12.547Z"
   },
   {
    "duration": 305,
    "start_time": "2021-09-13T09:55:12.556Z"
   },
   {
    "duration": 783,
    "start_time": "2021-09-13T09:55:12.864Z"
   },
   {
    "duration": 10,
    "start_time": "2021-09-13T09:55:13.650Z"
   },
   {
    "duration": 48,
    "start_time": "2021-09-13T09:55:13.662Z"
   },
   {
    "duration": 4,
    "start_time": "2021-09-13T09:55:13.713Z"
   },
   {
    "duration": 578,
    "start_time": "2021-09-13T09:55:13.719Z"
   },
   {
    "duration": 5,
    "start_time": "2021-09-13T09:55:14.300Z"
   },
   {
    "duration": 191612,
    "start_time": "2021-09-13T09:55:14.308Z"
   },
   {
    "duration": 7,
    "start_time": "2021-09-13T09:58:25.922Z"
   },
   {
    "duration": 12257,
    "start_time": "2021-09-13T09:58:25.932Z"
   },
   {
    "duration": 94,
    "start_time": "2021-09-13T09:58:38.192Z"
   },
   {
    "duration": 13060,
    "start_time": "2021-09-13T09:58:38.289Z"
   },
   {
    "duration": 5,
    "start_time": "2021-09-13T09:58:51.351Z"
   },
   {
    "duration": 655,
    "start_time": "2021-09-13T09:58:51.359Z"
   },
   {
    "duration": 5,
    "start_time": "2021-09-13T09:58:52.017Z"
   },
   {
    "duration": 197247,
    "start_time": "2021-09-13T09:58:52.025Z"
   },
   {
    "duration": 10,
    "start_time": "2021-09-13T10:02:09.274Z"
   },
   {
    "duration": 12701,
    "start_time": "2021-09-13T10:02:09.287Z"
   },
   {
    "duration": 83,
    "start_time": "2021-09-13T10:02:22.002Z"
   },
   {
    "duration": 93,
    "start_time": "2021-09-13T10:02:22.091Z"
   },
   {
    "duration": 20,
    "start_time": "2021-09-13T10:02:22.187Z"
   },
   {
    "duration": 31,
    "start_time": "2021-09-13T10:02:22.209Z"
   },
   {
    "duration": 9,
    "start_time": "2021-09-13T10:02:22.242Z"
   },
   {
    "duration": 1945,
    "start_time": "2021-09-13T13:17:20.470Z"
   },
   {
    "duration": 1349,
    "start_time": "2021-09-13T13:17:53.533Z"
   },
   {
    "duration": 56,
    "start_time": "2021-09-13T13:17:54.885Z"
   },
   {
    "duration": 6,
    "start_time": "2021-09-13T13:17:54.944Z"
   },
   {
    "duration": 321,
    "start_time": "2021-09-13T13:17:54.953Z"
   },
   {
    "duration": 805,
    "start_time": "2021-09-13T13:17:55.282Z"
   },
   {
    "duration": 11,
    "start_time": "2021-09-13T13:17:56.089Z"
   },
   {
    "duration": 47,
    "start_time": "2021-09-13T13:17:56.103Z"
   },
   {
    "duration": 5,
    "start_time": "2021-09-13T13:17:56.185Z"
   },
   {
    "duration": 600,
    "start_time": "2021-09-13T13:17:56.193Z"
   },
   {
    "duration": 6,
    "start_time": "2021-09-13T13:17:56.795Z"
   },
   {
    "duration": 203804,
    "start_time": "2021-09-13T13:17:56.804Z"
   },
   {
    "duration": 6,
    "start_time": "2021-09-13T13:21:20.611Z"
   },
   {
    "duration": 10264,
    "start_time": "2021-09-13T13:21:20.619Z"
   },
   {
    "duration": 96,
    "start_time": "2021-09-13T13:21:30.887Z"
   },
   {
    "duration": 11897,
    "start_time": "2021-09-13T13:21:30.985Z"
   },
   {
    "duration": 5,
    "start_time": "2021-09-13T13:21:42.885Z"
   },
   {
    "duration": 596,
    "start_time": "2021-09-13T13:21:42.892Z"
   },
   {
    "duration": 6,
    "start_time": "2021-09-13T13:21:43.491Z"
   },
   {
    "duration": 188934,
    "start_time": "2021-09-13T13:21:43.499Z"
   },
   {
    "duration": 6,
    "start_time": "2021-09-13T13:24:52.436Z"
   },
   {
    "duration": 12139,
    "start_time": "2021-09-13T13:24:52.444Z"
   },
   {
    "duration": 8,
    "start_time": "2021-09-13T13:25:04.586Z"
   },
   {
    "duration": 6,
    "start_time": "2021-09-13T13:25:04.686Z"
   },
   {
    "duration": 17,
    "start_time": "2021-09-13T13:25:04.695Z"
   },
   {
    "duration": 98,
    "start_time": "2021-09-13T13:25:04.714Z"
   },
   {
    "duration": 8,
    "start_time": "2021-09-13T13:25:04.814Z"
   },
   {
    "duration": 635,
    "start_time": "2021-09-13T13:25:04.824Z"
   },
   {
    "duration": 1117,
    "start_time": "2021-09-13T13:33:08.645Z"
   },
   {
    "duration": 330,
    "start_time": "2021-09-13T13:44:09.214Z"
   }
  ],
  "kernelspec": {
   "display_name": "Python 3 (ipykernel)",
   "language": "python",
   "name": "python3"
  },
  "language_info": {
   "codemirror_mode": {
    "name": "ipython",
    "version": 3
   },
   "file_extension": ".py",
   "mimetype": "text/x-python",
   "name": "python",
   "nbconvert_exporter": "python",
   "pygments_lexer": "ipython3",
   "version": "3.9.12"
  },
  "toc": {
   "base_numbering": 1,
   "nav_menu": {},
   "number_sections": true,
   "sideBar": true,
   "skip_h1_title": true,
   "title_cell": "Содержание",
   "title_sidebar": "Contents",
   "toc_cell": true,
   "toc_position": {},
   "toc_section_display": true,
   "toc_window_display": true
  }
 },
 "nbformat": 4,
 "nbformat_minor": 2
}
